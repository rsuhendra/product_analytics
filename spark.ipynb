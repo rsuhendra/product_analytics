{
 "cells": [
  {
   "cell_type": "markdown",
   "metadata": {},
   "source": [
    "# Product Analytics"
   ]
  },
  {
   "cell_type": "code",
   "execution_count": null,
   "metadata": {},
   "outputs": [],
   "source": [
    "from pyspark.sql import SparkSession\n",
    "from pyspark.sql import functions as F\n",
    "# from pyspark.sql.functions import rank,col,sum\n",
    "# from pyspark.sql.functions import hour, dayofmonth, dayofweek, year, month, when\n",
    "from pyspark.sql.window import Window\n",
    "from pyspark.sql.types import IntegerType\n",
    "\n",
    "\n",
    "from pyspark.ml import Pipeline\n",
    "from pyspark.ml.feature import VectorAssembler, StandardScaler, StringIndexer, MinMaxScaler, OneHotEncoder\n",
    "from pyspark.ml.clustering import KMeans\n",
    "from pyspark.ml.evaluation import ClusteringEvaluator, BinaryClassificationEvaluator\n",
    "from pyspark.ml.classification import LogisticRegression\n",
    "\n",
    "from xgboost.spark import SparkXGBClassifier\n",
    "\n",
    "\n",
    "import matplotlib.pyplot as plt\n",
    "import seaborn as sns\n"
   ]
  },
  {
   "cell_type": "code",
   "execution_count": 3,
   "metadata": {},
   "outputs": [
    {
     "name": "stderr",
     "output_type": "stream",
     "text": [
      "25/03/04 23:31:07 WARN Utils: Your hostname, Richards-MacBook-Pro-67.local resolves to a loopback address: 127.0.0.1; using 192.168.0.12 instead (on interface en0)\n",
      "25/03/04 23:31:07 WARN Utils: Set SPARK_LOCAL_IP if you need to bind to another address\n",
      "Setting default log level to \"WARN\".\n",
      "To adjust logging level use sc.setLogLevel(newLevel). For SparkR, use setLogLevel(newLevel).\n",
      "25/03/04 23:31:08 WARN NativeCodeLoader: Unable to load native-hadoop library for your platform... using builtin-java classes where applicable\n"
     ]
    }
   ],
   "source": [
    "# Build Spark Session\n",
    "spark = SparkSession.builder \\\n",
    "    .appName(\"Product-Analytics\") \\\n",
    "    .config(\"spark.driver.memory\", \"4g\") \\\n",
    "    .config(\"spark.executor.memory\", \"4g\") \\\n",
    "    .getOrCreate()"
   ]
  },
  {
   "cell_type": "markdown",
   "metadata": {},
   "source": [
    "# Data pre-processing"
   ]
  },
  {
   "cell_type": "code",
   "execution_count": 4,
   "metadata": {},
   "outputs": [
    {
     "name": "stderr",
     "output_type": "stream",
     "text": [
      "                                                                                \r"
     ]
    }
   ],
   "source": [
    "# Read CSV into a Spark DF\n",
    "df = spark.read.csv(\"product.csv\",header=True,inferSchema=True)"
   ]
  },
  {
   "cell_type": "code",
   "execution_count": 5,
   "metadata": {},
   "outputs": [
    {
     "name": "stderr",
     "output_type": "stream",
     "text": [
      "[Stage 2:==============================================>           (8 + 2) / 10]\r"
     ]
    },
    {
     "name": "stdout",
     "output_type": "stream",
     "text": [
      "Number of rows is 8471220\n",
      "root\n",
      " |-- order_id: string (nullable = true)\n",
      " |-- user_id: string (nullable = true)\n",
      " |-- page_id: string (nullable = true)\n",
      " |-- product: string (nullable = true)\n",
      " |-- site_version: string (nullable = true)\n",
      " |-- time: timestamp (nullable = true)\n",
      " |-- title: string (nullable = true)\n",
      " |-- target: integer (nullable = true)\n",
      "\n",
      "+--------------------+--------------------+--------------------+----------------+------------+-------------------+------------+------+\n",
      "|            order_id|             user_id|             page_id|         product|site_version|               time|       title|target|\n",
      "+--------------------+--------------------+--------------------+----------------+------------+-------------------+------------+------+\n",
      "|cfcd208495d565ef6...|c81e728d9d4c2f636...|6f4922f45568161a8...|        sneakers|     desktop|2019-01-11 09:24:43|banner_click|     0|\n",
      "|c4ca4238a0b923820...|eccbc87e4b5ce2fe2...|4e732ced3463d06de...|        sneakers|     desktop|2019-01-09 09:38:51| banner_show|     0|\n",
      "|c81e728d9d4c2f636...|eccbc87e4b5ce2fe2...|5c45a86277b8bf17b...|sports_nutrition|     desktop|2019-01-09 09:12:45| banner_show|     0|\n",
      "|eccbc87e4b5ce2fe2...|eccbc87e4b5ce2fe2...|fb339ad311d50a229...|         company|     desktop|2019-01-03 08:58:18| banner_show|     0|\n",
      "|a87ff679a2f3e71d9...|eccbc87e4b5ce2fe2...|fb339ad311d50a229...|         company|     desktop|2019-01-03 08:59:15|banner_click|     0|\n",
      "|e4da3b7fbbce2345d...|a87ff679a2f3e71d9...|182be0c5cdcd5072b...|sports_nutrition|      mobile|2019-01-14 05:33:39| banner_show|     0|\n",
      "|1679091c5a880faf6...|e4da3b7fbbce2345d...|e369853df766fa44e...|        sneakers|      mobile|2019-03-02 15:10:16| banner_show|     0|\n",
      "|8f14e45fceea167a5...|1679091c5a880faf6...|1c383cd30b7c298ab...|        sneakers|     desktop|2019-02-10 12:19:30| banner_show|     0|\n",
      "|c9f0f895fb98ab915...|8f14e45fceea167a5...|17e62166fc8586dfa...|     accessories|     desktop|2019-02-06 05:21:08| banner_show|     0|\n",
      "|45c48cce2e2d7fbde...|8f14e45fceea167a5...|2ff279ece91cd2eaa...|         clothes|     desktop|2019-01-24 10:36:13| banner_show|     0|\n",
      "|d3d9446802a442597...|c9f0f895fb98ab915...|f7177163c833dff4b...|        sneakers|      mobile|2019-02-18 17:51:54| banner_show|     0|\n",
      "|6512bd43d9caa6e02...|c9f0f895fb98ab915...|956936879f66f5cf4...|        sneakers|      mobile|2019-02-19 06:40:37| banner_show|     0|\n",
      "|c20ad4d76fe97759a...|c9f0f895fb98ab915...|87da00efc5e7f70a6...|         company|      mobile|2019-03-03 19:05:49| banner_show|     0|\n",
      "|c51ce410c124a10e0...|c9f0f895fb98ab915...|99e488bcb63f33cb6...|        sneakers|      mobile|2019-02-22 18:24:26| banner_show|     0|\n",
      "|aab3238922bcc25a6...|c9f0f895fb98ab915...|1bf2e4fc5d8ea06e3...|        sneakers|      mobile|2019-02-26 19:35:28| banner_show|     0|\n",
      "|9bf31c7ff062936a9...|c9f0f895fb98ab915...|ec6bf0fcecec17e29...|sports_nutrition|      mobile|2019-02-14 21:53:19| banner_show|     0|\n",
      "|c74d97b01eae257e4...|45c48cce2e2d7fbde...|67c6a1e7ce56d3d6f...|sports_nutrition|      mobile|2019-02-04 03:17:15| banner_show|     0|\n",
      "|70efdf2ec9b086079...|45c48cce2e2d7fbde...|e324c734ae477b18a...|        sneakers|      mobile|2019-02-01 21:19:44| banner_show|     0|\n",
      "|6f4922f45568161a8...|45c48cce2e2d7fbde...|0bf37daa2b0613933...|         clothes|      mobile|2019-01-17 17:38:38| banner_show|     0|\n",
      "|1f0e3dad99908345f...|45c48cce2e2d7fbde...|ff7985282e7f9d3c6...|         clothes|      mobile|2019-02-01 05:42:19| banner_show|     0|\n",
      "+--------------------+--------------------+--------------------+----------------+------------+-------------------+------------+------+\n",
      "only showing top 20 rows\n",
      "\n"
     ]
    },
    {
     "name": "stderr",
     "output_type": "stream",
     "text": [
      "                                                                                \r"
     ]
    }
   ],
   "source": [
    "num_rows = df.count()\n",
    "print(f'Number of rows is {num_rows}')\n",
    "df.printSchema()\n",
    "df.show()"
   ]
  },
  {
   "cell_type": "code",
   "execution_count": 6,
   "metadata": {},
   "outputs": [
    {
     "name": "stderr",
     "output_type": "stream",
     "text": [
      "                                                                                \r"
     ]
    },
    {
     "name": "stdout",
     "output_type": "stream",
     "text": [
      "+------------+\n",
      "|       title|\n",
      "+------------+\n",
      "| banner_show|\n",
      "|banner_click|\n",
      "|       order|\n",
      "+------------+\n",
      "\n"
     ]
    },
    {
     "name": "stderr",
     "output_type": "stream",
     "text": [
      "                                                                                \r"
     ]
    },
    {
     "name": "stdout",
     "output_type": "stream",
     "text": [
      "+----------------+\n",
      "|         product|\n",
      "+----------------+\n",
      "|        sneakers|\n",
      "|sports_nutrition|\n",
      "|         clothes|\n",
      "|     accessories|\n",
      "|         company|\n",
      "+----------------+\n",
      "\n"
     ]
    },
    {
     "name": "stderr",
     "output_type": "stream",
     "text": [
      "[Stage 12:===================================================>     (9 + 1) / 10]\r"
     ]
    },
    {
     "name": "stdout",
     "output_type": "stream",
     "text": [
      "+------------+\n",
      "|site_version|\n",
      "+------------+\n",
      "|     desktop|\n",
      "|      mobile|\n",
      "+------------+\n",
      "\n"
     ]
    },
    {
     "name": "stderr",
     "output_type": "stream",
     "text": [
      "                                                                                \r"
     ]
    }
   ],
   "source": [
    "df.select(\"title\").distinct().show()\n",
    "df.select(\"product\").distinct().show()\n",
    "df.select(\"site_version\").distinct().show()"
   ]
  },
  {
   "cell_type": "markdown",
   "metadata": {},
   "source": [
    "### Check for null values, duplicates, outliers in the DF"
   ]
  },
  {
   "cell_type": "code",
   "execution_count": 7,
   "metadata": {},
   "outputs": [
    {
     "name": "stderr",
     "output_type": "stream",
     "text": [
      "[Stage 15:===================================================>     (9 + 1) / 10]\r"
     ]
    },
    {
     "name": "stdout",
     "output_type": "stream",
     "text": [
      "+--------+-------+-------+-------+------------+----+-----+------+\n",
      "|order_id|user_id|page_id|product|site_version|time|title|target|\n",
      "+--------+-------+-------+-------+------------+----+-----+------+\n",
      "|       0|      0|      0|      0|           0|   0|    0|     0|\n",
      "+--------+-------+-------+-------+------------+----+-----+------+\n",
      "\n"
     ]
    },
    {
     "name": "stderr",
     "output_type": "stream",
     "text": [
      "                                                                                \r"
     ]
    }
   ],
   "source": [
    "# Check for Null values \n",
    "df.select([F.sum(F.col(c).isNull().cast(\"int\")).alias(c) for c in df.columns]).show()\n",
    "# there is no null values"
   ]
  },
  {
   "cell_type": "code",
   "execution_count": 8,
   "metadata": {},
   "outputs": [
    {
     "name": "stderr",
     "output_type": "stream",
     "text": [
      "[Stage 23:====================================>                   (11 + 6) / 17]\r"
     ]
    },
    {
     "name": "stdout",
     "output_type": "stream",
     "text": [
      "\n",
      "\n",
      "\n",
      "\n",
      "There are no duplicate rows.\n"
     ]
    },
    {
     "name": "stderr",
     "output_type": "stream",
     "text": [
      "                                                                                \r"
     ]
    }
   ],
   "source": [
    "# Check for duplicate rows\n",
    "total_rows = df.count()\n",
    "distinct_rows = df.distinct().count()\n",
    "if total_rows > distinct_rows:\n",
    "    print(f\"There are {total_rows - distinct_rows} duplicate rows.\")\n",
    "else:\n",
    "    print(\"\\n\\n\\n\\nThere are no duplicate rows.\")"
   ]
  },
  {
   "cell_type": "markdown",
   "metadata": {},
   "source": [
    "### Do some feature engineering"
   ]
  },
  {
   "cell_type": "code",
   "execution_count": 9,
   "metadata": {},
   "outputs": [
    {
     "name": "stderr",
     "output_type": "stream",
     "text": [
      "                                                                                \r"
     ]
    }
   ],
   "source": [
    "# Convert site version column to binary\n",
    "\n",
    "indexers = [StringIndexer(inputCol=column, outputCol=column+\"_index\").fit(df) for column in [ \"site_version\"]]\n",
    "\n",
    "for indexer in indexers:\n",
    "    df = indexer.transform(df)\n"
   ]
  },
  {
   "cell_type": "code",
   "execution_count": 10,
   "metadata": {},
   "outputs": [
    {
     "name": "stderr",
     "output_type": "stream",
     "text": [
      "                                                                                \r"
     ]
    }
   ],
   "source": [
    "# Step 1: Get unique products\n",
    "unique_products = df.select(\"product\").distinct().rdd.flatMap(lambda x: x).collect()\n",
    "# print(\"Unique Products:\", unique_products)\n",
    "\n",
    "# Step 2: Initialize columns of 0 for each product\n",
    "for product in unique_products:\n",
    "    df = df.withColumn(f\"product_{product}\", F.when(F.col(\"product\") == product, 1).otherwise(0))\n"
   ]
  },
  {
   "cell_type": "code",
   "execution_count": 11,
   "metadata": {},
   "outputs": [],
   "source": [
    "# Generate visit number for each row\n",
    "\n",
    "# Define the window specification\n",
    "window_spec = Window.partitionBy('user_id').orderBy('time')\n",
    "\n",
    "# Apply the rank function within each group (user)\n",
    "df = df.withColumn('visitNumber', F.rank().over(window_spec))"
   ]
  },
  {
   "cell_type": "code",
   "execution_count": 12,
   "metadata": {},
   "outputs": [],
   "source": [
    "# Extracting time information\n",
    "\n",
    "# 1. time_IsMorning (6:00 AM to 10:00 AM)\n",
    "df = df.withColumn(\n",
    "    'time_IsMorning', F.when((F.hour('time') >= 6) & (F.hour('time') < 10), 1).otherwise(0)\n",
    ")\n",
    "\n",
    "# 2. time_IsDaylight (10:00 AM to 4:00 PM)\n",
    "df = df.withColumn(\n",
    "    'time_IsDaylight', F.when((F.hour('time') >= 10) & (F.hour('time') < 16), 1).otherwise(0)\n",
    ")\n",
    "\n",
    "# 3. time_IsEvening (4:00 PM to 11:00 PM)\n",
    "df = df.withColumn(\n",
    "    'time_IsEvening', F.when((F.hour('time') >= 16) & (F.hour('time') < 23), 1).otherwise(0)\n",
    ")\n",
    "\n",
    "# 4. time_Hour (extract the hour)\n",
    "df = df.withColumn(\n",
    "    'time_Hour', F.hour('time')\n",
    ")\n",
    "\n",
    "# 5. time_Day (extract the day of the month)\n",
    "df = df.withColumn(\n",
    "    'time_Day', F.dayofmonth('time')\n",
    ")\n",
    "\n",
    "# 6. time_Week_Day (extract the weekday, starting from 1 for Monday)\n",
    "df = df.withColumn(\n",
    "    'time_Week_Day', (F.dayofweek('time') - 1).cast('int') + 1  # dayofweek returns 1 for Sunday, adjust to start from Monday as 1\n",
    ")\n",
    "\n",
    "# 7. time_Year_Month (create a YYYYMM format)\n",
    "df = df.withColumn(\n",
    "    'time_Year_Month', (F.year('time') * 100 + F.month('time')).cast('int')\n",
    ")"
   ]
  },
  {
   "cell_type": "markdown",
   "metadata": {},
   "source": [
    "### Drop columns"
   ]
  },
  {
   "cell_type": "code",
   "execution_count": 13,
   "metadata": {},
   "outputs": [],
   "source": [
    "# Drop columns\n",
    "df_final = df.drop(\"order_id\", \"page_id\", \"product\", \"site_version\", \"time\", \n",
    "                   \"title\", \"product_index\", \"user_id\")"
   ]
  },
  {
   "cell_type": "code",
   "execution_count": 14,
   "metadata": {},
   "outputs": [
    {
     "data": {
      "text/plain": [
       "['target',\n",
       " 'site_version_index',\n",
       " 'product_sneakers',\n",
       " 'product_sports_nutrition',\n",
       " 'product_clothes',\n",
       " 'product_accessories',\n",
       " 'product_company',\n",
       " 'visitNumber',\n",
       " 'time_IsMorning',\n",
       " 'time_IsDaylight',\n",
       " 'time_IsEvening',\n",
       " 'time_Hour',\n",
       " 'time_Day',\n",
       " 'time_Week_Day',\n",
       " 'time_Year_Month']"
      ]
     },
     "execution_count": 14,
     "metadata": {},
     "output_type": "execute_result"
    }
   ],
   "source": [
    "df_final.columns"
   ]
  },
  {
   "cell_type": "markdown",
   "metadata": {},
   "source": [
    "## Ok, let's do some analysis now"
   ]
  },
  {
   "cell_type": "code",
   "execution_count": 15,
   "metadata": {},
   "outputs": [
    {
     "name": "stderr",
     "output_type": "stream",
     "text": [
      "                                                                                \r"
     ]
    },
    {
     "data": {
      "image/png": "[encoded data removed]",
      "text/plain": [
       "<Figure size 640x480 with 1 Axes>"
      ]
     },
     "metadata": {},
     "output_type": "display_data"
    }
   ],
   "source": [
    "# Grouping by 'target' and counting occurrences\n",
    "target_counts = df_final.groupBy('target').count().toPandas()\n",
    "\n",
    "sns.barplot(x='target', y='count', data=target_counts)\n",
    "plt.show()"
   ]
  },
  {
   "cell_type": "markdown",
   "metadata": {},
   "source": [
    "### Class imbalance\n",
    "There's a large class imbalance so we need to take that into account. We can either\n",
    "1. Balance the data\n",
    "2. Take the data into account by modifying loss function\n",
    "   \n",
    "I tend to not like balancing the data so I'll go with models of (2)"
   ]
  },
  {
   "cell_type": "code",
   "execution_count": 16,
   "metadata": {},
   "outputs": [
    {
     "name": "stderr",
     "output_type": "stream",
     "text": [
      "                                                                                \r"
     ]
    }
   ],
   "source": [
    "# Compute class weights (inverse frequency)\n",
    "\n",
    "class_counts = df_final.groupBy(\"target\").count().collect()\n",
    "total_count = df_final.count()\n",
    "class_weights = {row['target']: total_count / row['count'] for row in class_counts}\n",
    "\n",
    "# Initialize df with weights\n",
    "df_final = df_final.withColumn(\n",
    "    \"weight\",\n",
    "    F.when(F.col(\"target\") == 0, class_weights[0])\n",
    "    .otherwise(class_weights[1])\n",
    ")"
   ]
  },
  {
   "cell_type": "code",
   "execution_count": 17,
   "metadata": {},
   "outputs": [],
   "source": [
    "# Form feature vector from leftover stuff\n",
    "\n",
    "# Define the list of columns to exclude\n",
    "exclude_cols = [\"target\", \"weight\"]\n",
    "\n",
    "# Get all columns except those in `exclude_cols`\n",
    "feature_cols = [col for col in df_final.columns if col not in exclude_cols]\n",
    "\n",
    "# Use VectorAssembler to combine the remaining columns into a feature vector\n",
    "assembler = VectorAssembler(inputCols=feature_cols, outputCol=\"features\")\n",
    "\n",
    "# Transform the DataFrame\n",
    "df_final = assembler.transform(df_final)"
   ]
  },
  {
   "cell_type": "markdown",
   "metadata": {},
   "source": [
    "## Logistic regression"
   ]
  },
  {
   "cell_type": "code",
   "execution_count": 18,
   "metadata": {},
   "outputs": [
    {
     "name": "stderr",
     "output_type": "stream",
     "text": [
      "25/03/04 23:33:45 WARN InstanceBuilder: Failed to load implementation from:dev.ludovic.netlib.blas.JNIBLAS\n",
      "25/03/04 23:33:45 WARN InstanceBuilder: Failed to load implementation from:dev.ludovic.netlib.blas.VectorBLAS\n",
      "[Stage 186:==================================================>     (9 + 1) / 10]\r"
     ]
    }
   ],
   "source": [
    "# Logistic Regression with class weights\n",
    "lr = LogisticRegression(labelCol=\"target\", featuresCol=\"features\", weightCol=\"weight\")\n",
    "\n",
    "# Train the model\n",
    "model = lr.fit(df_final)"
   ]
  },
  {
   "cell_type": "code",
   "execution_count": 22,
   "metadata": {},
   "outputs": [
    {
     "name": "stderr",
     "output_type": "stream",
     "text": [
      "                                                                                \r"
     ]
    },
    {
     "name": "stdout",
     "output_type": "stream",
     "text": [
      "AUC: 0.7159544395841737\n"
     ]
    }
   ],
   "source": [
    "# Make predictions using the trained model\n",
    "predictions = model.transform(df_final)\n",
    "\n",
    "# Use BinaryClassificationEvaluator to evaluate AUC\n",
    "evaluator = BinaryClassificationEvaluator(labelCol=\"target\", rawPredictionCol=\"prediction\", metricName=\"areaUnderROC\")\n",
    "\n",
    "# Compute AUC\n",
    "auc = evaluator.evaluate(predictions)\n",
    "print(f\"AUC: {auc}\")"
   ]
  },
  {
   "cell_type": "code",
   "execution_count": null,
   "metadata": {},
   "outputs": [
    {
     "data": {
      "text/plain": [
       "DenseVector([1.1749, 2.9021, 1.8571, 3.3061, 2.5038, -19.8217, 0.1697, -1.457, -0.9953, -1.0692, 0.0301, -0.0024, -0.0005, -0.0618])"
      ]
     },
     "execution_count": 18,
     "metadata": {},
     "output_type": "execute_result"
    }
   ],
   "source": [
    "model.coefficients"
   ]
  },
  {
   "cell_type": "code",
   "execution_count": 19,
   "metadata": {},
   "outputs": [
    {
     "name": "stdout",
     "output_type": "stream",
     "text": [
      "Feature columns used in the vector: ['site_version_index', 'product_sneakers', 'product_sports_nutrition', 'product_clothes', 'product_accessories', 'product_company', 'visitNumber', 'time_IsMorning', 'time_IsDaylight', 'time_IsEvening', 'time_Hour', 'time_Day', 'time_Week_Day', 'time_Year_Month']\n"
     ]
    }
   ],
   "source": [
    "feature_columns = assembler.getInputCols()\n",
    "print(\"Feature columns used in the vector:\", feature_columns)"
   ]
  },
  {
   "cell_type": "markdown",
   "metadata": {},
   "source": [
    "## XGBoost"
   ]
  },
  {
   "cell_type": "code",
   "execution_count": 27,
   "metadata": {},
   "outputs": [
    {
     "name": "stderr",
     "output_type": "stream",
     "text": [
      "2025-03-04 23:45:26,733 INFO XGBoost-PySpark: _fit Running xgboost-2.1.4 on 1 workers with\n",
      "\tbooster params: {'objective': 'binary:logistic', 'device': 'cpu', 'nthread': 1}\n",
      "\ttrain_call_kwargs_params: {'verbose_eval': True, 'num_boost_round': 100}\n",
      "\tdmatrix_kwargs: {'nthread': 1, 'missing': nan}\n",
      "2025-03-04 23:46:06,459 INFO XGBoost-PySpark: _train_booster Training on CPUs 1]\n",
      "[23:46:07] Task 0 got rank 0\n",
      "2025-03-04 23:47:28,979 INFO XGBoost-PySpark: _fit Finished xgboost training!   \n"
     ]
    }
   ],
   "source": [
    "# Define XGBoost Classifier\n",
    "xgb = SparkXGBClassifier(features_col='features', label_col='target', weight_col=\"weight\")\n",
    "\n",
    "# Train the XGBoost model\n",
    "xgb_model = xgb.fit(df_final)\n",
    "\n",
    "# Make predictions using the trained model\n",
    "predictions = xgb_model.transform(df_final)"
   ]
  },
  {
   "cell_type": "code",
   "execution_count": 28,
   "metadata": {},
   "outputs": [
    {
     "name": "stderr",
     "output_type": "stream",
     "text": [
      "2025-03-05 00:01:23,268 INFO XGBoost-PySpark: predict_udf Do the inference on the CPUs\n",
      "                                                                                \r"
     ]
    },
    {
     "name": "stdout",
     "output_type": "stream",
     "text": [
      "AUC: 0.7410389012042662\n"
     ]
    }
   ],
   "source": [
    "# Use BinaryClassificationEvaluator to evaluate AUC\n",
    "evaluator = BinaryClassificationEvaluator(labelCol=\"target\", rawPredictionCol=\"prediction\", metricName=\"areaUnderROC\")\n",
    "\n",
    "# Compute AUC\n",
    "auc = evaluator.evaluate(predictions)\n",
    "print(f\"AUC: {auc}\")"
   ]
  },
  {
   "cell_type": "code",
   "execution_count": null,
   "metadata": {},
   "outputs": [],
   "source": []
  }
 ],
 "metadata": {
  "kernelspec": {
   "display_name": "spark",
   "language": "python",
   "name": "python3"
  },
  "language_info": {
   "codemirror_mode": {
    "name": "ipython",
    "version": 3
   },
   "file_extension": ".py",
   "mimetype": "text/x-python",
   "name": "python",
   "nbconvert_exporter": "python",
   "pygments_lexer": "ipython3",
   "version": "3.10.16"
  }
 },
 "nbformat": 4,
 "nbformat_minor": 2
}
